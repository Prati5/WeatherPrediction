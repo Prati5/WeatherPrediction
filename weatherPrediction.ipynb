{
 "cells": [
  {
   "cell_type": "code",
   "execution_count": 1,
   "metadata": {},
   "outputs": [],
   "source": [
    "import numpy as np  # linear algebra\n",
    "import pandas as pd # data processing, CSV file I/O (e.g. pd.read_csv)\n",
    "import matplotlib.pyplot as plt  #generating graphs"
   ]
  },
  {
   "cell_type": "code",
   "execution_count": 4,
   "metadata": {},
   "outputs": [],
   "source": [
    "#Importing DataSet \n",
    "dataset = pd.read_csv(\"./weather.csv\")\n",
    "temp=dataset['temperaturemin']\n",
    "precipitation=dataset['precipitation']"
   ]
  },
  {
   "cell_type": "code",
   "execution_count": 3,
   "metadata": {},
   "outputs": [
    {
     "data": {
      "text/html": [
       "<div>\n",
       "<style scoped>\n",
       "    .dataframe tbody tr th:only-of-type {\n",
       "        vertical-align: middle;\n",
       "    }\n",
       "\n",
       "    .dataframe tbody tr th {\n",
       "        vertical-align: top;\n",
       "    }\n",
       "\n",
       "    .dataframe thead th {\n",
       "        text-align: right;\n",
       "    }\n",
       "</style>\n",
       "<table border=\"1\" class=\"dataframe\">\n",
       "  <thead>\n",
       "    <tr style=\"text-align: right;\">\n",
       "      <th></th>\n",
       "      <th>date</th>\n",
       "      <th>temperaturemin</th>\n",
       "      <th>temperaturemax</th>\n",
       "      <th>precipitation</th>\n",
       "      <th>snowfall</th>\n",
       "      <th>snowdepth</th>\n",
       "      <th>avgwindspeed</th>\n",
       "      <th>fastest2minwinddir</th>\n",
       "      <th>fastest2minwindspeed</th>\n",
       "      <th>fastest5secwinddir</th>\n",
       "      <th>...</th>\n",
       "      <th>drizzle</th>\n",
       "      <th>snow</th>\n",
       "      <th>freezingrain</th>\n",
       "      <th>smokehaze</th>\n",
       "      <th>thunder</th>\n",
       "      <th>highwind</th>\n",
       "      <th>hail</th>\n",
       "      <th>blowingsnow</th>\n",
       "      <th>dust</th>\n",
       "      <th>freezingfog</th>\n",
       "    </tr>\n",
       "  </thead>\n",
       "  <tbody>\n",
       "    <tr>\n",
       "      <th>0</th>\n",
       "      <td>2011-02-13</td>\n",
       "      <td>25.0</td>\n",
       "      <td>61.0</td>\n",
       "      <td>0.00</td>\n",
       "      <td>0.0</td>\n",
       "      <td>0.0</td>\n",
       "      <td>6.93</td>\n",
       "      <td>230.0</td>\n",
       "      <td>17.90</td>\n",
       "      <td>220.0</td>\n",
       "      <td>...</td>\n",
       "      <td>No</td>\n",
       "      <td>No</td>\n",
       "      <td>No</td>\n",
       "      <td>No</td>\n",
       "      <td>No</td>\n",
       "      <td>No</td>\n",
       "      <td>No</td>\n",
       "      <td>No</td>\n",
       "      <td>No</td>\n",
       "      <td>No</td>\n",
       "    </tr>\n",
       "    <tr>\n",
       "      <th>1</th>\n",
       "      <td>2011-02-16</td>\n",
       "      <td>34.0</td>\n",
       "      <td>63.0</td>\n",
       "      <td>0.00</td>\n",
       "      <td>0.0</td>\n",
       "      <td>0.0</td>\n",
       "      <td>5.37</td>\n",
       "      <td>230.0</td>\n",
       "      <td>17.90</td>\n",
       "      <td>230.0</td>\n",
       "      <td>...</td>\n",
       "      <td>No</td>\n",
       "      <td>No</td>\n",
       "      <td>No</td>\n",
       "      <td>No</td>\n",
       "      <td>No</td>\n",
       "      <td>No</td>\n",
       "      <td>No</td>\n",
       "      <td>No</td>\n",
       "      <td>No</td>\n",
       "      <td>No</td>\n",
       "    </tr>\n",
       "    <tr>\n",
       "      <th>2</th>\n",
       "      <td>2011-02-18</td>\n",
       "      <td>52.0</td>\n",
       "      <td>78.1</td>\n",
       "      <td>0.00</td>\n",
       "      <td>0.0</td>\n",
       "      <td>0.0</td>\n",
       "      <td>10.74</td>\n",
       "      <td>230.0</td>\n",
       "      <td>17.90</td>\n",
       "      <td>280.0</td>\n",
       "      <td>...</td>\n",
       "      <td>No</td>\n",
       "      <td>No</td>\n",
       "      <td>No</td>\n",
       "      <td>Yes</td>\n",
       "      <td>No</td>\n",
       "      <td>No</td>\n",
       "      <td>No</td>\n",
       "      <td>No</td>\n",
       "      <td>No</td>\n",
       "      <td>No</td>\n",
       "    </tr>\n",
       "    <tr>\n",
       "      <th>3</th>\n",
       "      <td>2011-03-03</td>\n",
       "      <td>35.1</td>\n",
       "      <td>53.1</td>\n",
       "      <td>0.00</td>\n",
       "      <td>0.0</td>\n",
       "      <td>0.0</td>\n",
       "      <td>10.74</td>\n",
       "      <td>70.0</td>\n",
       "      <td>21.03</td>\n",
       "      <td>80.0</td>\n",
       "      <td>...</td>\n",
       "      <td>No</td>\n",
       "      <td>No</td>\n",
       "      <td>No</td>\n",
       "      <td>No</td>\n",
       "      <td>No</td>\n",
       "      <td>No</td>\n",
       "      <td>No</td>\n",
       "      <td>No</td>\n",
       "      <td>No</td>\n",
       "      <td>No</td>\n",
       "    </tr>\n",
       "    <tr>\n",
       "      <th>4</th>\n",
       "      <td>2011-03-16</td>\n",
       "      <td>46.9</td>\n",
       "      <td>64.0</td>\n",
       "      <td>0.05</td>\n",
       "      <td>0.0</td>\n",
       "      <td>0.0</td>\n",
       "      <td>2.91</td>\n",
       "      <td>270.0</td>\n",
       "      <td>10.07</td>\n",
       "      <td>300.0</td>\n",
       "      <td>...</td>\n",
       "      <td>No</td>\n",
       "      <td>No</td>\n",
       "      <td>No</td>\n",
       "      <td>No</td>\n",
       "      <td>No</td>\n",
       "      <td>No</td>\n",
       "      <td>No</td>\n",
       "      <td>No</td>\n",
       "      <td>No</td>\n",
       "      <td>No</td>\n",
       "    </tr>\n",
       "    <tr>\n",
       "      <th>5</th>\n",
       "      <td>2011-03-19</td>\n",
       "      <td>55.9</td>\n",
       "      <td>75.0</td>\n",
       "      <td>0.00</td>\n",
       "      <td>0.0</td>\n",
       "      <td>0.0</td>\n",
       "      <td>5.82</td>\n",
       "      <td>40.0</td>\n",
       "      <td>17.90</td>\n",
       "      <td>50.0</td>\n",
       "      <td>...</td>\n",
       "      <td>No</td>\n",
       "      <td>No</td>\n",
       "      <td>No</td>\n",
       "      <td>No</td>\n",
       "      <td>No</td>\n",
       "      <td>No</td>\n",
       "      <td>No</td>\n",
       "      <td>No</td>\n",
       "      <td>No</td>\n",
       "      <td>No</td>\n",
       "    </tr>\n",
       "    <tr>\n",
       "      <th>6</th>\n",
       "      <td>2011-03-21</td>\n",
       "      <td>52.0</td>\n",
       "      <td>75.0</td>\n",
       "      <td>0.00</td>\n",
       "      <td>0.0</td>\n",
       "      <td>0.0</td>\n",
       "      <td>12.75</td>\n",
       "      <td>240.0</td>\n",
       "      <td>27.96</td>\n",
       "      <td>240.0</td>\n",
       "      <td>...</td>\n",
       "      <td>No</td>\n",
       "      <td>No</td>\n",
       "      <td>No</td>\n",
       "      <td>No</td>\n",
       "      <td>No</td>\n",
       "      <td>No</td>\n",
       "      <td>No</td>\n",
       "      <td>No</td>\n",
       "      <td>No</td>\n",
       "      <td>No</td>\n",
       "    </tr>\n",
       "    <tr>\n",
       "      <th>7</th>\n",
       "      <td>2011-03-23</td>\n",
       "      <td>50.0</td>\n",
       "      <td>82.9</td>\n",
       "      <td>0.45</td>\n",
       "      <td>0.0</td>\n",
       "      <td>0.0</td>\n",
       "      <td>6.71</td>\n",
       "      <td>230.0</td>\n",
       "      <td>25.95</td>\n",
       "      <td>220.0</td>\n",
       "      <td>...</td>\n",
       "      <td>No</td>\n",
       "      <td>No</td>\n",
       "      <td>No</td>\n",
       "      <td>No</td>\n",
       "      <td>Yes</td>\n",
       "      <td>No</td>\n",
       "      <td>No</td>\n",
       "      <td>No</td>\n",
       "      <td>No</td>\n",
       "      <td>No</td>\n",
       "    </tr>\n",
       "    <tr>\n",
       "      <th>8</th>\n",
       "      <td>2011-03-30</td>\n",
       "      <td>39.9</td>\n",
       "      <td>48.0</td>\n",
       "      <td>1.05</td>\n",
       "      <td>0.0</td>\n",
       "      <td>0.0</td>\n",
       "      <td>7.83</td>\n",
       "      <td>100.0</td>\n",
       "      <td>21.92</td>\n",
       "      <td>100.0</td>\n",
       "      <td>...</td>\n",
       "      <td>Yes</td>\n",
       "      <td>No</td>\n",
       "      <td>No</td>\n",
       "      <td>No</td>\n",
       "      <td>No</td>\n",
       "      <td>No</td>\n",
       "      <td>No</td>\n",
       "      <td>No</td>\n",
       "      <td>No</td>\n",
       "      <td>No</td>\n",
       "    </tr>\n",
       "    <tr>\n",
       "      <th>9</th>\n",
       "      <td>2011-04-01</td>\n",
       "      <td>37.9</td>\n",
       "      <td>55.0</td>\n",
       "      <td>0.00</td>\n",
       "      <td>0.0</td>\n",
       "      <td>0.0</td>\n",
       "      <td>6.26</td>\n",
       "      <td>280.0</td>\n",
       "      <td>17.90</td>\n",
       "      <td>290.0</td>\n",
       "      <td>...</td>\n",
       "      <td>No</td>\n",
       "      <td>No</td>\n",
       "      <td>No</td>\n",
       "      <td>No</td>\n",
       "      <td>No</td>\n",
       "      <td>No</td>\n",
       "      <td>No</td>\n",
       "      <td>No</td>\n",
       "      <td>No</td>\n",
       "      <td>No</td>\n",
       "    </tr>\n",
       "  </tbody>\n",
       "</table>\n",
       "<p>10 rows × 28 columns</p>\n",
       "</div>"
      ],
      "text/plain": [
       "         date  temperaturemin  temperaturemax  precipitation  snowfall  \\\n",
       "0  2011-02-13            25.0            61.0           0.00       0.0   \n",
       "1  2011-02-16            34.0            63.0           0.00       0.0   \n",
       "2  2011-02-18            52.0            78.1           0.00       0.0   \n",
       "3  2011-03-03            35.1            53.1           0.00       0.0   \n",
       "4  2011-03-16            46.9            64.0           0.05       0.0   \n",
       "5  2011-03-19            55.9            75.0           0.00       0.0   \n",
       "6  2011-03-21            52.0            75.0           0.00       0.0   \n",
       "7  2011-03-23            50.0            82.9           0.45       0.0   \n",
       "8  2011-03-30            39.9            48.0           1.05       0.0   \n",
       "9  2011-04-01            37.9            55.0           0.00       0.0   \n",
       "\n",
       "   snowdepth  avgwindspeed  fastest2minwinddir  fastest2minwindspeed  \\\n",
       "0        0.0          6.93               230.0                 17.90   \n",
       "1        0.0          5.37               230.0                 17.90   \n",
       "2        0.0         10.74               230.0                 17.90   \n",
       "3        0.0         10.74                70.0                 21.03   \n",
       "4        0.0          2.91               270.0                 10.07   \n",
       "5        0.0          5.82                40.0                 17.90   \n",
       "6        0.0         12.75               240.0                 27.96   \n",
       "7        0.0          6.71               230.0                 25.95   \n",
       "8        0.0          7.83               100.0                 21.92   \n",
       "9        0.0          6.26               280.0                 17.90   \n",
       "\n",
       "   fastest5secwinddir  ...  drizzle snow freezingrain smokehaze thunder  \\\n",
       "0               220.0  ...       No   No           No        No      No   \n",
       "1               230.0  ...       No   No           No        No      No   \n",
       "2               280.0  ...       No   No           No       Yes      No   \n",
       "3                80.0  ...       No   No           No        No      No   \n",
       "4               300.0  ...       No   No           No        No      No   \n",
       "5                50.0  ...       No   No           No        No      No   \n",
       "6               240.0  ...       No   No           No        No      No   \n",
       "7               220.0  ...       No   No           No        No     Yes   \n",
       "8               100.0  ...      Yes   No           No        No      No   \n",
       "9               290.0  ...       No   No           No        No      No   \n",
       "\n",
       "  highwind hail blowingsnow dust freezingfog  \n",
       "0       No   No          No   No          No  \n",
       "1       No   No          No   No          No  \n",
       "2       No   No          No   No          No  \n",
       "3       No   No          No   No          No  \n",
       "4       No   No          No   No          No  \n",
       "5       No   No          No   No          No  \n",
       "6       No   No          No   No          No  \n",
       "7       No   No          No   No          No  \n",
       "8       No   No          No   No          No  \n",
       "9       No   No          No   No          No  \n",
       "\n",
       "[10 rows x 28 columns]"
      ]
     },
     "execution_count": 3,
     "metadata": {},
     "output_type": "execute_result"
    }
   ],
   "source": [
    "dataset.head(10)"
   ]
  },
  {
   "cell_type": "code",
   "execution_count": 5,
   "metadata": {},
   "outputs": [],
   "source": [
    "x = np.array(temp).reshape(-1, 1) # function name says it : reshape the array\n",
    "y = np.array(precipitation)"
   ]
  },
  {
   "cell_type": "code",
   "execution_count": 6,
   "metadata": {},
   "outputs": [],
   "source": [
    "#Splitting the data into Train and Test\n",
    "#from sklearn.cross_validation import train_test_split in earlier version\n",
    "from sklearn.model_selection import train_test_split \n",
    "xtrain, xtest, ytrain, ytest = train_test_split( x, y, test_size=1/3, random_state=0 )"
   ]
  },
  {
   "cell_type": "code",
   "execution_count": 7,
   "metadata": {},
   "outputs": [
    {
     "data": {
      "text/plain": [
       "LinearRegression(copy_X=True, fit_intercept=True, n_jobs=None,\n",
       "         normalize=False)"
      ]
     },
     "execution_count": 7,
     "metadata": {},
     "output_type": "execute_result"
    }
   ],
   "source": [
    "#Fitting simple linear regression to the Training Set\n",
    "from sklearn.linear_model import LinearRegression \n",
    "regressor = LinearRegression()\n",
    "regressor.fit( xtrain, ytrain )"
   ]
  },
  {
   "cell_type": "code",
   "execution_count": 8,
   "metadata": {},
   "outputs": [
    {
     "data": {
      "text/plain": [
       "(array([0.00272922]), -0.00979683568563744)"
      ]
     },
     "execution_count": 8,
     "metadata": {},
     "output_type": "execute_result"
    }
   ],
   "source": [
    "regressor.coef_ , regressor.intercept_# y = mx + c , m is coef , c is intercept"
   ]
  },
  {
   "cell_type": "code",
   "execution_count": 9,
   "metadata": {},
   "outputs": [
    {
     "data": {
      "text/plain": [
       "(array([35.1]), 0.0, 0.08599882176044457)"
      ]
     },
     "execution_count": 9,
     "metadata": {},
     "output_type": "execute_result"
    }
   ],
   "source": [
    "actualValue = ytrain\n",
    "predictedValue = regressor.predict(xtrain) \n",
    "xtrain[0], actualValue[0] , predictedValue[0]"
   ]
  },
  {
   "cell_type": "code",
   "execution_count": 10,
   "metadata": {},
   "outputs": [
    {
     "data": {
      "text/plain": [
       "array([0.08599882])"
      ]
     },
     "execution_count": 10,
     "metadata": {},
     "output_type": "execute_result"
    }
   ],
   "source": [
    "regressor.coef_ * xtrain[0] + regressor.intercept_ # y = mx + c"
   ]
  },
  {
   "cell_type": "code",
   "execution_count": 12,
   "metadata": {},
   "outputs": [
    {
     "data": {
      "text/plain": [
       "0.00720424776737392"
      ]
     },
     "execution_count": 12,
     "metadata": {},
     "output_type": "execute_result"
    }
   ],
   "source": [
    "np.sqrt ( sum( abs( actualValue**2 - predictedValue**2 ) ) ) / len( xtrain ) # RMSE\n",
    "# Root Mean Square Error"
   ]
  },
  {
   "cell_type": "code",
   "execution_count": 13,
   "metadata": {},
   "outputs": [
    {
     "data": {
      "image/png": "[encoded data removed]",
      "text/plain": [
       "<Figure size 432x288 with 1 Axes>"
      ]
     },
     "metadata": {
      "needs_background": "light"
     },
     "output_type": "display_data"
    }
   ],
   "source": [
    "#Visualizing the training Test Results \n",
    "# Actual values\n",
    "plt.scatter(xtrain, ytrain, color='green') # x = xtrain , y = ytrain\n",
    "\n",
    "#Predicted values\n",
    "prediction = regressor.predict(xtrain)\n",
    "plt.plot(xtrain, prediction , color = 'black') # y = prediction\n",
    "\n",
    "plt.title (\"Prediction for Training Dataset\")\n",
    "plt.xlabel(\"Temperature in degree\"), plt.ylabel(\"Precipitation\")\n",
    "plt.show()"
   ]
  },
  {
   "cell_type": "code",
   "execution_count": 15,
   "metadata": {},
   "outputs": [
    {
     "data": {
      "image/png": "[encoded data removed]",
      "text/plain": [
       "<Figure size 432x288 with 1 Axes>"
      ]
     },
     "metadata": {
      "needs_background": "light"
     },
     "output_type": "display_data"
    }
   ],
   "source": [
    "#Visualizing the Test Results \n",
    "\n",
    "plt.scatter(xtest, ytest, color= 'green')\n",
    "\n",
    "plt.plot(xtrain, regressor.predict(xtrain), color = 'black')\n",
    "\n",
    "plt.title (\"Training Dataset\")\n",
    "plt.xlabel(\"Tempertaure in degree\"), plt.ylabel(\"Precipitation\")\n",
    "plt.show()"
   ]
  },
  {
   "cell_type": "code",
   "execution_count": 17,
   "metadata": {},
   "outputs": [],
   "source": [
    "d=dataset['avgwindspeed'].value_counts()"
   ]
  },
  {
   "cell_type": "code",
   "execution_count": 21,
   "metadata": {},
   "outputs": [
    {
     "data": {
      "text/plain": [
       "<matplotlib.axes._subplots.AxesSubplot at 0x7efbb82c6b70>"
      ]
     },
     "execution_count": 21,
     "metadata": {},
     "output_type": "execute_result"
    },
    {
     "data": {
      "image/png": "[encoded data removed]",
      "text/plain": [
       "<Figure size 432x288 with 1 Axes>"
      ]
     },
     "metadata": {
      "needs_background": "light"
     },
     "output_type": "display_data"
    }
   ],
   "source": [
    "d.plot(kind='bar')"
   ]
  },
  {
   "cell_type": "code",
   "execution_count": null,
   "metadata": {},
   "outputs": [],
   "source": []
  }
 ],
 "metadata": {
  "kernelspec": {
   "display_name": "Python 3",
   "language": "python",
   "name": "python3"
  },
  "language_info": {
   "codemirror_mode": {
    "name": "ipython",
    "version": 3
   },
   "file_extension": ".py",
   "mimetype": "text/x-python",
   "name": "python",
   "nbconvert_exporter": "python",
   "pygments_lexer": "ipython3",
   "version": "3.5.2"
  }
 },
 "nbformat": 4,
 "nbformat_minor": 2
}
